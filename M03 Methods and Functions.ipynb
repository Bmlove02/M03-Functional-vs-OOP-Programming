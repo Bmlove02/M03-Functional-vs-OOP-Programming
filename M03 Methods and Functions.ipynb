{
 "cells": [
  {
   "cell_type": "code",
   "execution_count": 3,
   "id": "730c0215",
   "metadata": {},
   "outputs": [
    {
     "name": "stdout",
     "output_type": "stream",
     "text": [
      "33.49333333333333\n"
     ]
    }
   ],
   "source": [
    "# Write a functions that computes the volume of a sphere given its radious\n",
    "def vol(rad):\n",
    "    print((4 / 3) * 3.14 * (rad * rad * rad))\n",
    "vol(2)"
   ]
  },
  {
   "cell_type": "code",
   "execution_count": 19,
   "id": "07621224",
   "metadata": {},
   "outputs": [
    {
     "name": "stdout",
     "output_type": "stream",
     "text": [
      "5 is in the range between 2 and 7\n"
     ]
    },
    {
     "data": {
      "text/plain": [
       "True"
      ]
     },
     "execution_count": 19,
     "metadata": {},
     "output_type": "execute_result"
    }
   ],
   "source": [
    "# Write a function that checks whether a number is in a given range\n",
    "def ran_check(num, low, high):\n",
    "    if num < low:\n",
    "        print(num, \"is not in the range of\", low, \"and\", high)\n",
    "    elif num > high:\n",
    "        print(num, \"is not in the range of\", low, \"and\", high)\n",
    "    else:\n",
    "        print(num, \"is in the range between\", low, \"and\", high)\n",
    "ran_check(5, 2, 7)\n",
    "\n",
    "def ran_bool(num, low, high):\n",
    "    if num < low:\n",
    "        return False\n",
    "    elif num > high:\n",
    "        return False\n",
    "    else:\n",
    "        return True\n",
    "ran_bool(5, 2, 7)"
   ]
  },
  {
   "cell_type": "code",
   "execution_count": 25,
   "id": "78388adc",
   "metadata": {},
   "outputs": [
    {
     "name": "stdout",
     "output_type": "stream",
     "text": [
      "Original String: Hello Mr. Rogers, how are you this morning\n",
      "Lowercase Count: 30\n",
      "Uppercase Count: 3\n"
     ]
    }
   ],
   "source": [
    "# Write a python function that accepts a string and calculates that number of uppercase and lowercase letters\n",
    "def up_low(s):\n",
    "    lowercase = 0\n",
    "    uppercase = 0\n",
    "    \n",
    "    for char in s:\n",
    "        if char.isupper():\n",
    "            uppercase += 1\n",
    "        elif char.islower():\n",
    "            lowercase += 1\n",
    "        else:\n",
    "            pass\n",
    "        \n",
    "    print('Original String:', s)\n",
    "    print('Lowercase Count:', lowercase)\n",
    "    print('Uppercase Count:', uppercase)\n",
    "    \n",
    "s = 'Hello Mr. Rogers, how are you this morning'\n",
    "up_low(s)"
   ]
  },
  {
   "cell_type": "code",
   "execution_count": 28,
   "id": "06e0bc44",
   "metadata": {},
   "outputs": [
    {
     "data": {
      "text/plain": [
       "[1, 2, 3, 4, 5]"
      ]
     },
     "execution_count": 28,
     "metadata": {},
     "output_type": "execute_result"
    }
   ],
   "source": [
    "# Write a python function that takes a list and returns a new list of unique elements of the first list\n",
    "def unique_list(st):\n",
    "    return list(set(st))\n",
    "\n",
    "unique_list([1,1,1,1,2,2,2,2,3,3,3,4,5])"
   ]
  },
  {
   "cell_type": "code",
   "execution_count": 30,
   "id": "bb9b6a11",
   "metadata": {},
   "outputs": [
    {
     "data": {
      "text/plain": [
       "-240"
      ]
     },
     "execution_count": 30,
     "metadata": {},
     "output_type": "execute_result"
    }
   ],
   "source": [
    "# Write a python function to multiple all the numbers in a list\n",
    "def multiply(num):\n",
    "    total = 1\n",
    "    for number in num:\n",
    "        total = total * number\n",
    "    return total\n",
    "    \n",
    "multiply([1,2,3,-4])"
   ]
  },
  {
   "cell_type": "code",
   "execution_count": 37,
   "id": "3735029c",
   "metadata": {},
   "outputs": [
    {
     "data": {
      "text/plain": [
       "True"
      ]
     },
     "execution_count": 37,
     "metadata": {},
     "output_type": "execute_result"
    }
   ],
   "source": [
    "# Write a function that checks whether a word or phrase is palindrome or not\n",
    "def palindrome(s):\n",
    "    s = s.replace(' ','')\n",
    "    \n",
    "    return s == s[::-1]\n",
    "\n",
    "palindrome('nurses run')"
   ]
  },
  {
   "cell_type": "code",
   "execution_count": 43,
   "id": "ccb98edc",
   "metadata": {},
   "outputs": [
    {
     "data": {
      "text/plain": [
       "True"
      ]
     },
     "execution_count": 43,
     "metadata": {},
     "output_type": "execute_result"
    }
   ],
   "source": [
    "# Write a function that checks whether a word or phrase is pangram or not\n",
    "import string\n",
    "\n",
    "def ispangram(str1, alphabet=string.ascii_lowercase):\n",
    "    alphaset = set(alphabet)\n",
    "    str1 = str1.replace(' ','')\n",
    "    str1 = str1.lower()\n",
    "    str1 = set(str1)\n",
    "    return str1 == alphaset\n",
    "    \n",
    "ispangram(\"The quick brown fox jumps over the lazy dog\")"
   ]
  },
  {
   "cell_type": "code",
   "execution_count": null,
   "id": "59557dc4",
   "metadata": {},
   "outputs": [],
   "source": []
  }
 ],
 "metadata": {
  "kernelspec": {
   "display_name": "Python 3 (ipykernel)",
   "language": "python",
   "name": "python3"
  },
  "language_info": {
   "codemirror_mode": {
    "name": "ipython",
    "version": 3
   },
   "file_extension": ".py",
   "mimetype": "text/x-python",
   "name": "python",
   "nbconvert_exporter": "python",
   "pygments_lexer": "ipython3",
   "version": "3.9.13"
  }
 },
 "nbformat": 4,
 "nbformat_minor": 5
}
